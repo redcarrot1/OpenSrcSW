{
 "cells": [
  {
   "cell_type": "code",
   "execution_count": 1,
   "id": "e0b1c5af",
   "metadata": {},
   "outputs": [
    {
     "data": {
      "text/plain": [
       "(7, 36)"
      ]
     },
     "execution_count": 1,
     "metadata": {},
     "output_type": "execute_result"
    }
   ],
   "source": [
    "a=456\n",
    "h=456/60\n",
    "m=456%60\n",
    "int(h), m"
   ]
  },
  {
   "cell_type": "code",
   "execution_count": 2,
   "id": "247f8cba",
   "metadata": {},
   "outputs": [
    {
     "name": "stdout",
     "output_type": "stream",
     "text": [
      "['김철수', '이영희', '임꺽정', '홍길동']\n",
      "김철수 2.8\n"
     ]
    }
   ],
   "source": [
    "scores = {'홍길동':3.4, '임꺽정':4.0, \"김철수\":2.8, \"이영희\":3.9}\n",
    "\n",
    "data=scores.keys()\n",
    "data_list=list(data)\n",
    "data_list.sort()\n",
    "print(data_list)\n",
    "\n",
    "key=data_list[0]\n",
    "value=scores[key]\n",
    "print(key, value)"
   ]
  }
 ],
 "metadata": {
  "kernelspec": {
   "display_name": "Python 3 (ipykernel)",
   "language": "python",
   "name": "python3"
  },
  "language_info": {
   "codemirror_mode": {
    "name": "ipython",
    "version": 3
   },
   "file_extension": ".py",
   "mimetype": "text/x-python",
   "name": "python",
   "nbconvert_exporter": "python",
   "pygments_lexer": "ipython3",
   "version": "3.10.4"
  }
 },
 "nbformat": 4,
 "nbformat_minor": 5
}
