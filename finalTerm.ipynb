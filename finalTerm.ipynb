{
 "cells": [
  {
   "cell_type": "code",
   "execution_count": 2,
   "outputs": [
    {
     "name": "stdout",
     "output_type": "stream",
     "text": [
      "가장 많은 접종날짜=2021-06-28, 적은 접종날짜=2021-02-22\n"
     ]
    }
   ],
   "source": [
    "import matplotlib.pyplot as plt\n",
    "import numpy as np\n",
    "import csv\n",
    "\n",
    "f = open('country_vaccinations.csv', 'r', encoding='cp949')\n",
    "data = csv.reader(f)\n",
    "next(data)\n",
    "max_vac=0\n",
    "max_date=''\n",
    "min_vac=999999\n",
    "min_date=''\n",
    "for row in data:\n",
    "    if row[7]=='': row[7]=0\n",
    "    row[7] = float(row[7])\n",
    "\n",
    "    if max_vac<row[7]:\n",
    "        max_vac=row[7]\n",
    "        max_date=row[2]\n",
    "    if min_vac>row[7]:\n",
    "        min_vac=row[7]\n",
    "        min_date=row[2]\n",
    "print(f'가장 많은 접종날짜={max_date}, 적은 접종날짜={min_date}')"
   ],
   "metadata": {
    "collapsed": false,
    "pycharm": {
     "name": "#%%\n"
    }
   }
  },
  {
   "cell_type": "code",
   "execution_count": 22,
   "outputs": [
    {
     "data": {
      "text/plain": "                    number\nOxford/AstraZeneca     183\nPfizer/BioNTech        158\nSinopharm/Beijing       90\nModerna                 90\nJohnson&Johnson         89\nSputnik V               58\nSinovac                 51\nNovavax                 11\nCovaxin                  9\nSputnik Light            8\nCanSino                  7\nAbdala                   4\nSoberana02               4\nZF2001                   3\nSinopharm/Wuhan          2\nQazVac                   2\nEpiVacCorona             2\nFAKHRAVAC                1\nRazi Cov Pars            1\nSpikoGen                 1\nSoberana Plus            1\nCOVIran Barekat          1\nMedigen                  1\nTurkovac                 1",
      "text/html": "<div>\n<style scoped>\n    .dataframe tbody tr th:only-of-type {\n        vertical-align: middle;\n    }\n\n    .dataframe tbody tr th {\n        vertical-align: top;\n    }\n\n    .dataframe thead th {\n        text-align: right;\n    }\n</style>\n<table border=\"1\" class=\"dataframe\">\n  <thead>\n    <tr style=\"text-align: right;\">\n      <th></th>\n      <th>number</th>\n    </tr>\n  </thead>\n  <tbody>\n    <tr>\n      <th>Oxford/AstraZeneca</th>\n      <td>183</td>\n    </tr>\n    <tr>\n      <th>Pfizer/BioNTech</th>\n      <td>158</td>\n    </tr>\n    <tr>\n      <th>Sinopharm/Beijing</th>\n      <td>90</td>\n    </tr>\n    <tr>\n      <th>Moderna</th>\n      <td>90</td>\n    </tr>\n    <tr>\n      <th>Johnson&amp;Johnson</th>\n      <td>89</td>\n    </tr>\n    <tr>\n      <th>Sputnik V</th>\n      <td>58</td>\n    </tr>\n    <tr>\n      <th>Sinovac</th>\n      <td>51</td>\n    </tr>\n    <tr>\n      <th>Novavax</th>\n      <td>11</td>\n    </tr>\n    <tr>\n      <th>Covaxin</th>\n      <td>9</td>\n    </tr>\n    <tr>\n      <th>Sputnik Light</th>\n      <td>8</td>\n    </tr>\n    <tr>\n      <th>CanSino</th>\n      <td>7</td>\n    </tr>\n    <tr>\n      <th>Abdala</th>\n      <td>4</td>\n    </tr>\n    <tr>\n      <th>Soberana02</th>\n      <td>4</td>\n    </tr>\n    <tr>\n      <th>ZF2001</th>\n      <td>3</td>\n    </tr>\n    <tr>\n      <th>Sinopharm/Wuhan</th>\n      <td>2</td>\n    </tr>\n    <tr>\n      <th>QazVac</th>\n      <td>2</td>\n    </tr>\n    <tr>\n      <th>EpiVacCorona</th>\n      <td>2</td>\n    </tr>\n    <tr>\n      <th>FAKHRAVAC</th>\n      <td>1</td>\n    </tr>\n    <tr>\n      <th>Razi Cov Pars</th>\n      <td>1</td>\n    </tr>\n    <tr>\n      <th>SpikoGen</th>\n      <td>1</td>\n    </tr>\n    <tr>\n      <th>Soberana Plus</th>\n      <td>1</td>\n    </tr>\n    <tr>\n      <th>COVIran Barekat</th>\n      <td>1</td>\n    </tr>\n    <tr>\n      <th>Medigen</th>\n      <td>1</td>\n    </tr>\n    <tr>\n      <th>Turkovac</th>\n      <td>1</td>\n    </tr>\n  </tbody>\n</table>\n</div>"
     },
     "execution_count": 22,
     "metadata": {},
     "output_type": "execute_result"
    }
   ],
   "source": [
    "import matplotlib.pyplot as plt\n",
    "import numpy as np\n",
    "import csv\n",
    "import pandas as pd\n",
    "\n",
    "f = open('country_vaccinations.csv', 'r', encoding='cp949')\n",
    "data = csv.reader(f)\n",
    "next(data)\n",
    "dic={} # '백신' = [나라 리스트(중복x)]\n",
    "\n",
    "for row in data:\n",
    "    vaList = row[12].split(', ')\n",
    "    cont = row[0]\n",
    "\n",
    "    for v in vaList:\n",
    "        if v in dic:\n",
    "            if cont in dic[v] : pass\n",
    "            else: dic[v].append(cont)\n",
    "        else:\n",
    "            dic[v]=[cont]\n",
    "\n",
    "\n",
    "\n",
    "index = []\n",
    "col=[]\n",
    "for key, val in dic.items():\n",
    "    index.append(key)\n",
    "    col.append(len(val))\n",
    "\n",
    "for i in range(len(index)):\n",
    "    for j in range(len(index)):\n",
    "        if col[i]>col[j]:\n",
    "            temp = col[i]\n",
    "            col[i]=col[j]\n",
    "            col[j]=temp\n",
    "            temp=index[i]\n",
    "            index[i]=index[j]\n",
    "            index[j]=temp\n",
    "\n",
    "df = pd.DataFrame(col, index = index, columns=['number'])\n",
    "df"
   ],
   "metadata": {
    "collapsed": false,
    "pycharm": {
     "name": "#%%\n"
    }
   }
  },
  {
   "cell_type": "code",
   "execution_count": 26,
   "outputs": [
    {
     "ename": "TypeError",
     "evalue": "pie() got an unexpected keyword argument 'index'",
     "output_type": "error",
     "traceback": [
      "\u001B[0;31m---------------------------------------------------------------------------\u001B[0m",
      "\u001B[0;31mTypeError\u001B[0m                                 Traceback (most recent call last)",
      "Input \u001B[0;32mIn [26]\u001B[0m, in \u001B[0;36m<cell line: 57>\u001B[0;34m()\u001B[0m\n\u001B[1;32m     54\u001B[0m \u001B[38;5;28;01mfor\u001B[39;00m i \u001B[38;5;129;01min\u001B[39;00m \u001B[38;5;28mrange\u001B[39m(\u001B[38;5;28mlen\u001B[39m(col)):\n\u001B[1;32m     55\u001B[0m     col[i]\u001B[38;5;241m/\u001B[39m\u001B[38;5;241m=\u001B[39ms\n\u001B[0;32m---> 57\u001B[0m \u001B[43mplt\u001B[49m\u001B[38;5;241;43m.\u001B[39;49m\u001B[43mpie\u001B[49m\u001B[43m(\u001B[49m\u001B[43mcol\u001B[49m\u001B[43m,\u001B[49m\u001B[43m \u001B[49m\u001B[43mindex\u001B[49m\u001B[38;5;241;43m=\u001B[39;49m\u001B[43mindex\u001B[49m\u001B[43m,\u001B[49m\u001B[43m \u001B[49m\u001B[43mautopct\u001B[49m\u001B[38;5;241;43m=\u001B[39;49m\u001B[38;5;124;43m'\u001B[39;49m\u001B[38;5;132;43;01m%.1f\u001B[39;49;00m\u001B[38;5;132;43;01m%%\u001B[39;49;00m\u001B[38;5;124;43m'\u001B[39;49m\u001B[43m)\u001B[49m\n\u001B[1;32m     58\u001B[0m plt\u001B[38;5;241m.\u001B[39mshow()\n",
      "\u001B[0;31mTypeError\u001B[0m: pie() got an unexpected keyword argument 'index'"
     ]
    }
   ],
   "source": [
    "import matplotlib.pyplot as plt\n",
    "import numpy as np\n",
    "import csv\n",
    "import pandas as pd\n",
    "\n",
    "f = open('country_vaccinations.csv', 'r', encoding='cp949')\n",
    "data = csv.reader(f)\n",
    "next(data)\n",
    "dic={} # '백신' = [나라 리스트(중복x)]\n",
    "\n",
    "for row in data:\n",
    "    vaList = row[12].split(', ')\n",
    "    cont = row[0]\n",
    "\n",
    "    for v in vaList:\n",
    "        if v in dic:\n",
    "            if cont in dic[v] : pass\n",
    "            else: dic[v].append(cont)\n",
    "        else:\n",
    "            dic[v]=[cont]\n",
    "\n",
    "\n",
    "index = []\n",
    "col=[]\n",
    "for key, val in dic.items():\n",
    "    index.append(key)\n",
    "    col.append(len(val))\n",
    "\n",
    "for i in range(len(index)):\n",
    "    for j in range(len(index)):\n",
    "        if col[i]>col[j]:\n",
    "            temp = col[i]\n",
    "            col[i]=col[j]\n",
    "            col[j]=temp\n",
    "            temp=index[i]\n",
    "            index[i]=index[j]\n",
    "            index[j]=temp\n",
    "ind=0\n",
    "for i in range(len(col)):\n",
    "    if col[i]<10:\n",
    "        ind=i\n",
    "        break\n",
    "\n",
    "otherNum=0\n",
    "for i in range(ind, len(col)):\n",
    "    otherNum+=col[i]\n",
    "del col[ind:]\n",
    "del index[ind:]\n",
    "\n",
    "col.append(otherNum)\n",
    "index.append('other')\n",
    "\n",
    "s = sum(col)\n",
    "for i in range(len(col)):\n",
    "    col[i]/=s\n",
    "\n",
    "plt.pie(col, index=index, autopct='%.1f%%')\n",
    "plt.show()"
   ],
   "metadata": {
    "collapsed": false,
    "pycharm": {
     "name": "#%%\n"
    }
   }
  },
  {
   "cell_type": "code",
   "execution_count": 18,
   "outputs": [
    {
     "data": {
      "text/plain": "[1, 2, 3]"
     },
     "execution_count": 18,
     "metadata": {},
     "output_type": "execute_result"
    }
   ],
   "source": [],
   "metadata": {
    "collapsed": false,
    "pycharm": {
     "name": "#%%\n"
    }
   }
  },
  {
   "cell_type": "code",
   "execution_count": null,
   "outputs": [],
   "source": [],
   "metadata": {
    "collapsed": false,
    "pycharm": {
     "name": "#%%\n"
    }
   }
  }
 ],
 "metadata": {
  "kernelspec": {
   "display_name": "Python 3",
   "language": "python",
   "name": "python3"
  },
  "language_info": {
   "codemirror_mode": {
    "name": "ipython",
    "version": 2
   },
   "file_extension": ".py",
   "mimetype": "text/x-python",
   "name": "python",
   "nbconvert_exporter": "python",
   "pygments_lexer": "ipython2",
   "version": "2.7.6"
  }
 },
 "nbformat": 4,
 "nbformat_minor": 0
}